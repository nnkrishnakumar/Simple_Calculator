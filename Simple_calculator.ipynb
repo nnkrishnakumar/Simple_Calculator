{
 "cells": [
  {
   "cell_type": "code",
   "execution_count": 1,
   "metadata": {},
   "outputs": [],
   "source": [
    "# Simple Calculator "
   ]
  },
  {
   "cell_type": "code",
   "execution_count": 2,
   "metadata": {},
   "outputs": [
    {
     "name": "stdout",
     "output_type": "stream",
     "text": [
      "Operation introduce in the calculator :\n",
      "       1. Addtion\n",
      "       2. Subtraction\n",
      "       3. Multiplication \n",
      "       4. Divison \n",
      "      \n"
     ]
    },
    {
     "name": "stdin",
     "output_type": "stream",
     "text": [
      "Kindly choose an Operation mentioned above : 3\n",
      "Enter 1st number : 3\n",
      "Enter 2nd number : 3\n"
     ]
    },
    {
     "name": "stdout",
     "output_type": "stream",
     "text": [
      "Multiplication of given number is : 9\n"
     ]
    }
   ],
   "source": [
    "print(\"\"\"Operation introduce in the calculator :\n",
    "       1. Addtion\n",
    "       2. Subtraction\n",
    "       3. Multiplication \n",
    "       4. Divison \n",
    "      \"\"\")\n",
    "Operation=int(input(\"Kindly choose an Operation mentioned above :\"))\n",
    "num1=eval(input(\"Enter 1st number :\"))\n",
    "num2=eval(input(\"Enter 2nd number :\"))        \n",
    "\n",
    "if Operation==1:\n",
    "    print(\"Sum of given number is :\",num1+num2)\n",
    "    \n",
    "elif Operation==2:\n",
    "    print(\"Subtraction of given number is :\",num1-num2)\n",
    "elif Operation==3:\n",
    "    print(\"Multiplication of given number is :\",num1*num2)\n",
    "elif Operation==4:\n",
    "    print(\"Division of given number is :\",num1/num2)\n",
    "else:\n",
    "    print(\"invalid entry\")"
   ]
  },
  {
   "cell_type": "code",
   "execution_count": null,
   "metadata": {},
   "outputs": [],
   "source": []
  },
  {
   "cell_type": "code",
   "execution_count": null,
   "metadata": {},
   "outputs": [],
   "source": []
  }
 ],
 "metadata": {
  "kernelspec": {
   "display_name": "Python 3",
   "language": "python",
   "name": "python3"
  },
  "language_info": {
   "codemirror_mode": {
    "name": "ipython",
    "version": 3
   },
   "file_extension": ".py",
   "mimetype": "text/x-python",
   "name": "python",
   "nbconvert_exporter": "python",
   "pygments_lexer": "ipython3",
   "version": "3.8.5"
  }
 },
 "nbformat": 4,
 "nbformat_minor": 4
}
